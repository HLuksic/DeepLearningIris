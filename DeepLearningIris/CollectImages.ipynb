{
 "cells": [
  {
   "cell_type": "code",
   "execution_count": null,
   "id": "f0e65374-5205-4d0d-9a93-31713f6bb703",
   "metadata": {},
   "outputs": [],
   "source": [
    "!pip install labelme tensorflow opencv-python matplotlib albumentations"
   ]
  },
  {
   "cell_type": "code",
   "execution_count": 13,
   "id": "6d47860f-664b-44e1-96b0-afa2b3f059ed",
   "metadata": {
    "tags": []
   },
   "outputs": [],
   "source": [
    "import os\n",
    "import cv2\n",
    "import uuid\n",
    "import time\n",
    "import random"
   ]
  },
  {
   "cell_type": "code",
   "execution_count": 14,
   "id": "680ed1bf-7f19-44a4-a995-cdba728b3680",
   "metadata": {
    "tags": []
   },
   "outputs": [
    {
     "name": "stdout",
     "output_type": "stream",
     "text": [
      "Skupljam sliku 0\n",
      "Skupljam sliku 1\n",
      "Skupljam sliku 2\n",
      "Skupljam sliku 3\n",
      "Skupljam sliku 4\n",
      "Skupljam sliku 5\n",
      "Skupljam sliku 6\n",
      "Skupljam sliku 7\n",
      "Skupljam sliku 8\n",
      "Skupljam sliku 9\n"
     ]
    }
   ],
   "source": [
    "# COLLECT IMAGES VIA WEBCAM\n",
    "\n",
    "img_number = 10\n",
    "img_path = os.path.join('data', 'images')\n",
    "\n",
    "cap = cv2.VideoCapture(0)\n",
    "\n",
    "for img_num in range(img_number):\n",
    "    print(\"Skupljam sliku {}\".format(img_num))\n",
    "    img_name = os.path.join(img_path, f'{str(uuid.uuid1())}.jpg')\n",
    "    ret, frame = cap.read()\n",
    "    cv2.imwrite(img_name, frame)\n",
    "    cv2.imshow('frame', frame)\n",
    "    time.sleep(0.3)\n",
    "    \n",
    "cap.release()\n",
    "cv2.destroyAllWindows()"
   ]
  },
  {
   "cell_type": "code",
   "execution_count": 15,
   "id": "2aca59aa-2c0b-4d4c-8921-470537615e3b",
   "metadata": {
    "tags": []
   },
   "outputs": [],
   "source": [
    "import tensorflow as tf\n",
    "import numpy as np\n",
    "import albumentations as alb\n",
    "import json\n",
    "from matplotlib import pyplot as plot"
   ]
  },
  {
   "cell_type": "code",
   "execution_count": 20,
   "id": "f4c0af3c-f8e9-44a3-b5c2-2f3bca5d94bb",
   "metadata": {
    "tags": []
   },
   "outputs": [
    {
     "name": "stderr",
     "output_type": "stream",
     "text": [
      "[INFO   ] __init__:get_config:70 - Loading config file from: C:\\Users\\Hrvoje\\.labelmerc\n"
     ]
    }
   ],
   "source": [
    "# Annotate images\n",
    "\n",
    "!labelme"
   ]
  },
  {
   "cell_type": "code",
   "execution_count": 29,
   "id": "4f0f53f9-8bb7-47fb-87c9-336fb65ffc81",
   "metadata": {
    "tags": []
   },
   "outputs": [],
   "source": [
    "# Partition training images\n",
    "\n",
    "dest = os.path.join('data', 'train', 'images')\n",
    "\n",
    "for i in range(round(img_number * 0.7)):\n",
    "    random_file = random.choice(os.listdir(img_path))\n",
    "    source = os.path.join(img_path, random_file)\n",
    "    os.replace(source, os.path.join(dest, random_file))\n",
    "    \n",
    "# Partition testing images\n",
    "\n",
    "dest = os.path.join('data', 'test', 'images')\n",
    "\n",
    "for i in range(round(img_number * 0.15)):\n",
    "    random_file = random.choice(os.listdir(img_path))\n",
    "    source = os.path.join(img_path, random_file)\n",
    "    os.replace(source, os.path.join(dest, random_file))\n",
    "    \n",
    "# Partition validation images\n",
    "\n",
    "dest = os.path.join('data', 'val', 'images')\n",
    "\n",
    "for f in os.listdir(img_path):\n",
    "    source = os.path.join(img_path, f)\n",
    "    os.replace(source, os.path.join(dest, f))"
   ]
  },
  {
   "cell_type": "code",
   "execution_count": 31,
   "id": "818e9699-0cfd-4ea4-8e0f-2691f983cbbe",
   "metadata": {
    "tags": []
   },
   "outputs": [],
   "source": [
    "# CREATE DATASET\n",
    "# Move matching labels\n",
    "\n",
    "for folder in ['train', 'test', 'val']:\n",
    "    for file in os.listdir(os.path.join('data', folder, 'images')):\n",
    "        existing_filepath = os.path.join('data', 'labels', file.split('.')[0]+'.json')\n",
    "        filename = file.split('.')[0]+'.json'\n",
    "        \n",
    "        if os.path.exists(existing_filepath): \n",
    "            new_filepath = os.path.join('data', folder, 'labels', filename)\n",
    "            os.replace(existing_filepath, new_filepath)"
   ]
  },
  {
   "cell_type": "code",
   "execution_count": 32,
   "id": "137a6d0d-06e7-4a19-a19a-19e5d8ae4813",
   "metadata": {
    "tags": []
   },
   "outputs": [],
   "source": [
    "# Augment images for more samples\n",
    "\n",
    "augmentor = alb.Compose([alb.RandomCrop(width = 450, height = 450), \n",
    "                         alb.HorizontalFlip(p = 0.5), \n",
    "                         alb.RandomBrightnessContrast(p = 0.2),\n",
    "                         alb.RandomGamma(p = 0.2), \n",
    "                         alb.RGBShift(p = 0.2), \n",
    "                         alb.VerticalFlip(p = 0.5)], \n",
    "                         keypoint_params = alb.KeypointParams(format = 'xy', label_fields = ['class_labels']))"
   ]
  },
  {
   "cell_type": "code",
   "execution_count": 33,
   "id": "b3926011-471c-4ca1-b1b1-68a36d7e21e6",
   "metadata": {
    "tags": []
   },
   "outputs": [],
   "source": [
    "for partition in ['train', 'test', 'val']: \n",
    "    for image in os.listdir(os.path.join('data', partition, 'images')):\n",
    "        img = cv2.imread(os.path.join('data', partition, 'images', image))\n",
    "\n",
    "        label_path = os.path.join('data', partition, 'labels', f'{image.split(\".\")[0]}.json')\n",
    "        classes = [0,0]\n",
    "        coords = [0,0,0.00001,0.00001]\n",
    "        \n",
    "        if os.path.exists(label_path):\n",
    "            with open(label_path, 'r') as f:\n",
    "                label = json.load(f)\n",
    "    \n",
    "            if label['shapes'][0]['label']=='LeftEye': \n",
    "                classes[0] = 1\n",
    "                coords[0] = np.squeeze(label['shapes'][0]['points'])[0]\n",
    "                coords[1] = np.squeeze(label['shapes'][0]['points'])[1]\n",
    "\n",
    "            if label['shapes'][0]['label']=='RightEye':\n",
    "                classes[1] = 1\n",
    "                coords[2] = np.squeeze(label['shapes'][0]['points'])[0]\n",
    "                coords[3] = np.squeeze(label['shapes'][0]['points'])[1]\n",
    "\n",
    "            if len(label['shapes']) > 1:     \n",
    "                if label['shapes'][1]['label'] =='LeftEye': \n",
    "                    classes[0] = 1 \n",
    "                    coords[0] = np.squeeze(label['shapes'][1]['points'])[0]\n",
    "                    coords[1] = np.squeeze(label['shapes'][1]['points'])[1]\n",
    "\n",
    "                if label['shapes'][1]['label'] =='RightEye': \n",
    "                    classes[1] = 1\n",
    "                    coords[2] = np.squeeze(label['shapes'][1]['points'])[0]\n",
    "                    coords[3] = np.squeeze(label['shapes'][1]['points'])[1]\n",
    "            \n",
    "            np.divide(coords, [640,480,640,480])\n",
    "                \n",
    "        try: \n",
    "            for x in range(120):\n",
    "                keypoints = [(coords[:2]), (coords[2:])]\n",
    "                augmented = augmentor(image=img, keypoints=keypoints, class_labels=['LeftEye','RightEye'])\n",
    "                \n",
    "                cv2.imwrite(os.path.join('aug_data', partition, 'images', f'{image.split(\".\")[0]}.{x}.jpg'), augmented['image'])\n",
    "\n",
    "                annotation = {}\n",
    "                annotation['image'] = image\n",
    "                annotation['class'] = [0,0]\n",
    "                annotation['keypoints'] = [0,0,0,0]\n",
    "\n",
    "                if os.path.exists(label_path):\n",
    "                    if len(augmented['keypoints']) > 0: \n",
    "                        for idx, cl in enumerate(augmented['class_labels']):\n",
    "                            if cl == 'LeftEye': \n",
    "                                annotation['class'][0] = 1 \n",
    "                                annotation['keypoints'][0] = augmented['keypoints'][idx][0]\n",
    "                                annotation['keypoints'][1] = augmented['keypoints'][idx][1]\n",
    "                            if cl == 'RightEye': \n",
    "                                annotation['class'][1] = 1 \n",
    "                                annotation['keypoints'][2] = augmented['keypoints'][idx][0]\n",
    "                                annotation['keypoints'][3] = augmented['keypoints'][idx][1]\n",
    "                                \n",
    "                annotation['keypoints'] = list(np.divide(annotation['keypoints'], [450,450,450,450]))\n",
    "\n",
    "\n",
    "                with open(os.path.join('aug_data', partition, 'labels', f'{image.split(\".\")[0]}.{x}.json'), 'w') as f:\n",
    "                    json.dump(annotation, f)\n",
    "\n",
    "        except Exception as e:\n",
    "            print(e)"
   ]
  }
 ],
 "metadata": {
  "kernelspec": {
   "display_name": "DeepLearningIris",
   "language": "python",
   "name": "deeplearningiris"
  },
  "language_info": {
   "codemirror_mode": {
    "name": "ipython",
    "version": 3
   },
   "file_extension": ".py",
   "mimetype": "text/x-python",
   "name": "python",
   "nbconvert_exporter": "python",
   "pygments_lexer": "ipython3",
   "version": "3.10.4"
  }
 },
 "nbformat": 4,
 "nbformat_minor": 5
}
